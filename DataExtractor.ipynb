{
 "cells": [
  {
   "cell_type": "markdown",
   "metadata": {
    "colab_type": "text",
    "id": "gs3q9Orhyb5i"
   },
   "source": [
    "Notebook Desenvolvido por: **Matheus Terra**\n",
    "\n",
    "Repositório: https://github.com/matheusfterra/QueroEducacao\n",
    "\n",
    "Dataset: http://dataeng.quero.com:5000/caged-data\n",
    "\n",
    "Objetivo: Conversão dos dados da API em um arquivo CSV para manipulação"
   ]
  },
  {
   "cell_type": "code",
   "execution_count": null,
   "metadata": {
    "colab": {},
    "colab_type": "code",
    "id": "kO0FRyyv3g1t"
   },
   "outputs": [],
   "source": [
    "#Importação das Bibliotecas\n",
    "import json\n",
    "import urllib.request as urllib2\n",
    "import csv\n",
    "import pandas as pd"
   ]
  },
  {
   "cell_type": "code",
   "execution_count": null,
   "metadata": {
    "colab": {},
    "colab_type": "code",
    "id": "v4EavBfK3kzS"
   },
   "outputs": [],
   "source": [
    "#Extração dos dados da API, por meio de Json\n",
    "url='http://dataeng.quero.com:5000/caged-data'\n",
    "json_obj = urllib2.urlopen(url)\n",
    "\n",
    "data = json.load(json_obj)\n",
    "\n",
    "emp_data = data['caged']"
   ]
  },
  {
   "cell_type": "code",
   "execution_count": null,
   "metadata": {
    "colab": {},
    "colab_type": "code",
    "id": "WBeUH9fG369X"
   },
   "outputs": [],
   "source": [
    "#Criação de um arquivo CSV para execução do script\n",
    "employ_data = open('dataset/EmployData.csv', 'w')"
   ]
  },
  {
   "cell_type": "code",
   "execution_count": null,
   "metadata": {
    "colab": {},
    "colab_type": "code",
    "id": "IQP996H94Fc7"
   },
   "outputs": [],
   "source": [
    "#Transferência dos dados para o arquivo criado\n",
    "csvwriter = csv.writer(employ_data)\n",
    "\n",
    "count = 0\n",
    "for emp in emp_data:\n",
    "      if count == 0:\n",
    "             header = emp.keys()\n",
    "             csvwriter.writerow(header)\n",
    "             count += 1\n",
    "      csvwriter.writerow(emp.values())\n",
    "employ_data.close()"
   ]
  },
  {
   "cell_type": "code",
   "execution_count": null,
   "metadata": {
    "colab": {
     "base_uri": "https://localhost:8080/",
     "height": 216
    },
    "colab_type": "code",
    "id": "vTpkHjy05LUQ",
    "outputId": "57bf016c-3dae-4dfe-a951-522825446423"
   },
   "outputs": [
    {
     "data": {
      "text/html": [
       "<div>\n",
       "<style scoped>\n",
       "    .dataframe tbody tr th:only-of-type {\n",
       "        vertical-align: middle;\n",
       "    }\n",
       "\n",
       "    .dataframe tbody tr th {\n",
       "        vertical-align: top;\n",
       "    }\n",
       "\n",
       "    .dataframe thead th {\n",
       "        text-align: right;\n",
       "    }\n",
       "</style>\n",
       "<table border=\"1\" class=\"dataframe\">\n",
       "  <thead>\n",
       "    <tr style=\"text-align: right;\">\n",
       "      <th></th>\n",
       "      <th>categoria</th>\n",
       "      <th>cbo2002_ocupacao</th>\n",
       "      <th>competencia</th>\n",
       "      <th>fonte</th>\n",
       "      <th>grau_de_instrucao</th>\n",
       "      <th>horas_contratuais</th>\n",
       "      <th>id</th>\n",
       "      <th>idade</th>\n",
       "      <th>ind_trab_intermitente</th>\n",
       "      <th>ind_trab_parcial</th>\n",
       "      <th>indicador_aprendiz</th>\n",
       "      <th>municipio</th>\n",
       "      <th>raca_cor</th>\n",
       "      <th>regiao</th>\n",
       "      <th>salario</th>\n",
       "      <th>saldo_movimentacao</th>\n",
       "      <th>secao</th>\n",
       "      <th>sexo</th>\n",
       "      <th>subclasse</th>\n",
       "      <th>tam_estab_jan</th>\n",
       "      <th>tipo_de_deficiencia</th>\n",
       "      <th>tipo_empregador</th>\n",
       "      <th>tipo_estabelecimento</th>\n",
       "      <th>tipo_movimentacao</th>\n",
       "      <th>uf</th>\n",
       "    </tr>\n",
       "  </thead>\n",
       "  <tbody>\n",
       "    <tr>\n",
       "      <th>0</th>\n",
       "      <td>101</td>\n",
       "      <td>422310</td>\n",
       "      <td>202006</td>\n",
       "      <td>1</td>\n",
       "      <td>7</td>\n",
       "      <td>36</td>\n",
       "      <td>2</td>\n",
       "      <td>18</td>\n",
       "      <td>0</td>\n",
       "      <td>0</td>\n",
       "      <td>0</td>\n",
       "      <td>355030</td>\n",
       "      <td>1</td>\n",
       "      <td>3</td>\n",
       "      <td>998</td>\n",
       "      <td>-1</td>\n",
       "      <td>N</td>\n",
       "      <td>3</td>\n",
       "      <td>8220200</td>\n",
       "      <td>7</td>\n",
       "      <td>0</td>\n",
       "      <td>0</td>\n",
       "      <td>1</td>\n",
       "      <td>40</td>\n",
       "      <td>35</td>\n",
       "    </tr>\n",
       "    <tr>\n",
       "      <th>1</th>\n",
       "      <td>101</td>\n",
       "      <td>521110</td>\n",
       "      <td>202006</td>\n",
       "      <td>1</td>\n",
       "      <td>7</td>\n",
       "      <td>44</td>\n",
       "      <td>3</td>\n",
       "      <td>22</td>\n",
       "      <td>0</td>\n",
       "      <td>0</td>\n",
       "      <td>0</td>\n",
       "      <td>520995</td>\n",
       "      <td>6</td>\n",
       "      <td>5</td>\n",
       "      <td>0</td>\n",
       "      <td>1</td>\n",
       "      <td>G</td>\n",
       "      <td>3</td>\n",
       "      <td>4753900</td>\n",
       "      <td>3</td>\n",
       "      <td>0</td>\n",
       "      <td>0</td>\n",
       "      <td>1</td>\n",
       "      <td>20</td>\n",
       "      <td>52</td>\n",
       "    </tr>\n",
       "    <tr>\n",
       "      <th>2</th>\n",
       "      <td>101</td>\n",
       "      <td>783225</td>\n",
       "      <td>202006</td>\n",
       "      <td>1</td>\n",
       "      <td>7</td>\n",
       "      <td>44</td>\n",
       "      <td>11</td>\n",
       "      <td>34</td>\n",
       "      <td>0</td>\n",
       "      <td>0</td>\n",
       "      <td>0</td>\n",
       "      <td>260890</td>\n",
       "      <td>1</td>\n",
       "      <td>2</td>\n",
       "      <td>1045</td>\n",
       "      <td>-1</td>\n",
       "      <td>C</td>\n",
       "      <td>1</td>\n",
       "      <td>2222600</td>\n",
       "      <td>2</td>\n",
       "      <td>0</td>\n",
       "      <td>0</td>\n",
       "      <td>1</td>\n",
       "      <td>31</td>\n",
       "      <td>26</td>\n",
       "    </tr>\n",
       "    <tr>\n",
       "      <th>3</th>\n",
       "      <td>101</td>\n",
       "      <td>848520</td>\n",
       "      <td>202006</td>\n",
       "      <td>1</td>\n",
       "      <td>4</td>\n",
       "      <td>44</td>\n",
       "      <td>12</td>\n",
       "      <td>26</td>\n",
       "      <td>0</td>\n",
       "      <td>0</td>\n",
       "      <td>0</td>\n",
       "      <td>432250</td>\n",
       "      <td>1</td>\n",
       "      <td>4</td>\n",
       "      <td>1332.880004882813</td>\n",
       "      <td>-1</td>\n",
       "      <td>C</td>\n",
       "      <td>1</td>\n",
       "      <td>1013901</td>\n",
       "      <td>6</td>\n",
       "      <td>0</td>\n",
       "      <td>0</td>\n",
       "      <td>1</td>\n",
       "      <td>43</td>\n",
       "      <td>43</td>\n",
       "    </tr>\n",
       "    <tr>\n",
       "      <th>4</th>\n",
       "      <td>101</td>\n",
       "      <td>521135</td>\n",
       "      <td>202006</td>\n",
       "      <td>1</td>\n",
       "      <td>6</td>\n",
       "      <td>44</td>\n",
       "      <td>13</td>\n",
       "      <td>20</td>\n",
       "      <td>0</td>\n",
       "      <td>0</td>\n",
       "      <td>0</td>\n",
       "      <td>421450</td>\n",
       "      <td>6</td>\n",
       "      <td>4</td>\n",
       "      <td>1211</td>\n",
       "      <td>-1</td>\n",
       "      <td>G</td>\n",
       "      <td>1</td>\n",
       "      <td>4520001</td>\n",
       "      <td>3</td>\n",
       "      <td>0</td>\n",
       "      <td>0</td>\n",
       "      <td>1</td>\n",
       "      <td>43</td>\n",
       "      <td>42</td>\n",
       "    </tr>\n",
       "  </tbody>\n",
       "</table>\n",
       "</div>"
      ],
      "text/plain": [
       "   categoria  cbo2002_ocupacao  ...  tipo_movimentacao  uf\n",
       "0        101            422310  ...                 40  35\n",
       "1        101            521110  ...                 20  52\n",
       "2        101            783225  ...                 31  26\n",
       "3        101            848520  ...                 43  43\n",
       "4        101            521135  ...                 43  42\n",
       "\n",
       "[5 rows x 25 columns]"
      ]
     },
     "execution_count": 6,
     "metadata": {
      "tags": []
     },
     "output_type": "execute_result"
    }
   ],
   "source": [
    "#Checkagem do arquivo exportado\n",
    "df = pd.read_csv('dataset/EmployData.csv')\n",
    "df.head(5)"
   ]
  },
  {
   "cell_type": "code",
   "execution_count": null,
   "metadata": {
    "colab": {
     "base_uri": "https://localhost:8080/",
     "height": 134
    },
    "colab_type": "code",
    "id": "pUfGSeNv5h9r",
    "outputId": "d25c64f6-b8ea-497e-ea98-e0b8e1ff1215"
   },
   "outputs": [
    {
     "data": {
      "text/plain": [
       "Index(['categoria', 'cbo2002_ocupacao', 'competencia', 'fonte',\n",
       "       'grau_de_instrucao', 'horas_contratuais', 'id', 'idade',\n",
       "       'ind_trab_intermitente', 'ind_trab_parcial', 'indicador_aprendiz',\n",
       "       'municipio', 'raca_cor', 'regiao', 'salario', 'saldo_movimentacao',\n",
       "       'secao', 'sexo', 'subclasse', 'tam_estab_jan', 'tipo_de_deficiencia',\n",
       "       'tipo_empregador', 'tipo_estabelecimento', 'tipo_movimentacao', 'uf'],\n",
       "      dtype='object')"
      ]
     },
     "execution_count": 7,
     "metadata": {
      "tags": []
     },
     "output_type": "execute_result"
    }
   ],
   "source": [
    "#Verificação dos nomes das colunas\n",
    "df.columns"
   ]
  },
  {
   "cell_type": "code",
   "execution_count": null,
   "metadata": {
    "colab": {
     "base_uri": "https://localhost:8080/",
     "height": 552
    },
    "colab_type": "code",
    "id": "YVOcDUJK5qyd",
    "outputId": "7e462315-2430-4881-e2ad-f0fd68c8d1e9"
   },
   "outputs": [
    {
     "name": "stdout",
     "output_type": "stream",
     "text": [
      "<class 'pandas.core.frame.DataFrame'>\n",
      "RangeIndex: 22336 entries, 0 to 22335\n",
      "Data columns (total 25 columns):\n",
      " #   Column                 Non-Null Count  Dtype \n",
      "---  ------                 --------------  ----- \n",
      " 0   categoria              22336 non-null  int64 \n",
      " 1   cbo2002_ocupacao       22336 non-null  int64 \n",
      " 2   competencia            22336 non-null  int64 \n",
      " 3   fonte                  22336 non-null  int64 \n",
      " 4   grau_de_instrucao      22336 non-null  int64 \n",
      " 5   horas_contratuais      22336 non-null  int64 \n",
      " 6   id                     22336 non-null  int64 \n",
      " 7   idade                  22336 non-null  int64 \n",
      " 8   ind_trab_intermitente  22336 non-null  int64 \n",
      " 9   ind_trab_parcial       22336 non-null  int64 \n",
      " 10  indicador_aprendiz     22336 non-null  int64 \n",
      " 11  municipio              22336 non-null  int64 \n",
      " 12  raca_cor               22336 non-null  int64 \n",
      " 13  regiao                 22336 non-null  int64 \n",
      " 14  salario                22336 non-null  object\n",
      " 15  saldo_movimentacao     22336 non-null  int64 \n",
      " 16  secao                  22336 non-null  object\n",
      " 17  sexo                   22336 non-null  int64 \n",
      " 18  subclasse              22336 non-null  int64 \n",
      " 19  tam_estab_jan          22336 non-null  int64 \n",
      " 20  tipo_de_deficiencia    22336 non-null  int64 \n",
      " 21  tipo_empregador        22336 non-null  int64 \n",
      " 22  tipo_estabelecimento   22336 non-null  int64 \n",
      " 23  tipo_movimentacao      22336 non-null  int64 \n",
      " 24  uf                     22336 non-null  int64 \n",
      "dtypes: int64(23), object(2)\n",
      "memory usage: 4.3+ MB\n"
     ]
    }
   ],
   "source": [
    "#Verificação do tipo de dados de cada uma das colunas e a quantidade de colunas\n",
    "df.info()"
   ]
  }
 ],
 "metadata": {
  "colab": {
   "name": "DataExtractor.ipynb",
   "provenance": []
  },
  "kernelspec": {
   "display_name": "Python 3",
   "language": "python",
   "name": "python3"
  },
  "language_info": {
   "codemirror_mode": {
    "name": "ipython",
    "version": 3
   },
   "file_extension": ".py",
   "mimetype": "text/x-python",
   "name": "python",
   "nbconvert_exporter": "python",
   "pygments_lexer": "ipython3",
   "version": "3.8.5"
  }
 },
 "nbformat": 4,
 "nbformat_minor": 1
}
